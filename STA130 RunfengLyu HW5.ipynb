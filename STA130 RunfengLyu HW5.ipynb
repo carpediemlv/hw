{
 "cells": [
  {
   "cell_type": "code",
   "execution_count": 1,
   "id": "f72eb660",
   "metadata": {},
   "outputs": [],
   "source": [
    "# 1. \n",
    "# A key part of being able to test an idea is being able to measure and quantify it in an objective way. \n",
    "# The idea needs to be able to lead to data that can be gathered and studied scientifically.\n",
    "\n",
    "# A good null hypothesis should be clear, measurable, and falsifiable. \n",
    "# As a base for statistical tests, it must say that there is no effect or difference.\n",
    "\n",
    "# The idea that there is no effect or change is what is called the null hypothesis (H₀). \n",
    "# To compare, it is used as a starting point. \n",
    "# The different hypothesis (H₁ or Hₐ) shows that there is an effect or difference, which is what the researcher wants to show. \n",
    "# We use facts to decide if we should reject the null and go with the choice when we test a theory."
   ]
  },
  {
   "cell_type": "code",
   "execution_count": 2,
   "id": "fd3825ba",
   "metadata": {},
   "outputs": [],
   "source": [
    "# 2.\n",
    "# xi:\n",
    "# Stands for a single data point or number in our sample. \n",
    "# These are the exact measures we take.\n",
    "\n",
    "# xˉ: \n",
    "# It's the sample mean, which is the sum of all the xi values. \n",
    "# This is an outline of the group data that gives a rough idea of the general average.\n",
    "\n",
    "\n",
    "# u:\n",
    "# The population mean, which is the real average number for all the people in the group. \n",
    "# At the end of the day, we want to guess or test this with our sample data.\n",
    "\n",
    "# u0:\n",
    "# The number that is thought to be the population mean and is used to test a theory.\n",
    "# The sample mean is what we compare our sample mean to in a test to see if the difference is big.\n",
    "\n",
    "# For people who aren't statisticians, this means that we get information from a smaller group (the sample) in order to get specific measurements and figure out the average (xˉ), \n",
    "# but what we really care about is what this tells us about the whole population (the big group). \n",
    "# Our test will show if the big group's average (u) is the same as what we think it should be (u0), based on the sample we looked at.\n"
   ]
  },
  {
   "cell_type": "code",
   "execution_count": 3,
   "id": "e2331a1c",
   "metadata": {},
   "outputs": [],
   "source": [
    "# 3.\n",
    "# Before we can find a p-value, we have to assume that the null hypothesis is true. \n",
    "# This means that we believe there is no effect or difference. \n",
    "# This tells us what kind of sample data we should look for if the null hypothesis is true. \n",
    "# The p-value then tells us how strange or extreme our real data is in the made-up world where the null hypothesis is true. \n",
    "# \"How likely is it that we would see results like ours (or even worse) if there really was no effect?\" is what it answers. \n",
    "# If the p-value is very small, it means that the null hypothesis is not likely to be true. \n",
    "# In other words, we should think about turning it down."
   ]
  },
  {
   "cell_type": "code",
   "execution_count": 4,
   "id": "cc2f71ce",
   "metadata": {},
   "outputs": [],
   "source": [
    "# 4.\n",
    "# It looks like the null hypothesis is less likely to be true if the p-value is small. \n",
    "# This is because the data we saw would not have happened if the null hypothesis were true. \n",
    "# This is the idea that there is no difference or effect. It is called the null hypothesis (H₀). \n",
    "# If the null hypothesis is true, the p-value tells us how likely it is that we will see data like ours or even more extreme. \n",
    "# This means that if the p-value is small, it means that the data we see is less likely to be the result of random chance. \n",
    "# This means the null hypothesis seems less rational and more \"ridiculous.\" \n",
    "# We can now say that the alternative hypothesis, which says there is a real effect or difference, is more likely to be true than the null hypothesis.\n",
    "\n"
   ]
  },
  {
   "cell_type": "code",
   "execution_count": 5,
   "id": "32d2e44a",
   "metadata": {},
   "outputs": [],
   "source": [
    "# 5.\n",
    "# Null Hypothesis (H₀): There is no preference for which way people tilt their heads when kissing; the probability of tilting right is 0.5.\n",
    "# Alternative Hypothesis (H₁): There is a preference for tilting right, i.e., the probability of tilting right is not equal to 0.5.\n",
    "# Out of 124 couples, 80 tilted their heads to the right. This is equivalent to 64.5% tilting right.\n",
    "# Expected proportion under the null hypothesis (no preference) is 50%.\n",
    "# 64.5% of the couples (80 out of 124 couples) tilted their heads to the right. \n",
    "# This means that the p-value should be below 0.05, which means there is moderate to strong evidence against the null hypothesis. \n",
    "# This means that the observed head-tilting behavior is not likely to be random, and there may be a preference for tilting right."
   ]
  },
  {
   "cell_type": "code",
   "execution_count": 6,
   "id": "2d536354",
   "metadata": {},
   "outputs": [],
   "source": [
    "# 6.\n",
    "# With a low p-value, you can't be sure that the null hypothesis is wrong. \n",
    "# When testing a theory, a p-value tells us how likely it is that the data we saw is true if the null hypothesis is true. \n",
    "# However, it does not prove that it is true.\n",
    "# A p-value can't prove for sure that Fido from the \"second pre-lecture video\" is guilty or not:\n",
    "# If Fido is not guilty, a low p-value means that the data we saw is not likely to have happened by chance. \n",
    "# This doesn't show crime, though, because the data could have come up at any time by chance.\n",
    "# A high p-value means that there isn't enough evidence to rule out the null hypothesis, which says that Fido is not guilty. \n",
    "# But it doesn't prove they are innocent either.\n",
    "# In short, p-values can show that the null hypothesis is not true, but they can't say for sure if someone is guilty or not.\n",
    "# The p-value amount that shows something for sure is not a set number. Instead, it is based on chances."
   ]
  },
  {
   "cell_type": "code",
   "execution_count": 1,
   "id": "af03422e",
   "metadata": {},
   "outputs": [
    {
     "ename": "NameError",
     "evalue": "name 'simulated_statistics' is not defined",
     "output_type": "error",
     "traceback": [
      "\u001b[0;31m---------------------------------------------------------------------------\u001b[0m",
      "\u001b[0;31mNameError\u001b[0m                                 Traceback (most recent call last)",
      "Cell \u001b[0;32mIn[1], line 2\u001b[0m\n\u001b[1;32m      1\u001b[0m \u001b[38;5;66;03m# 7.\u001b[39;00m\n\u001b[0;32m----> 2\u001b[0m SimStats_as_or_more_extreme_than_ObsStat \u001b[38;5;241m=\u001b[39m \u001b[38;5;28mabs\u001b[39m(\u001b[43msimulated_statistics\u001b[49m \u001b[38;5;241m-\u001b[39m population_parameter_value_under_H0) \u001b[38;5;241m>\u001b[39m\u001b[38;5;241m=\u001b[39m \u001b[38;5;28mabs\u001b[39m(observed_statistic \u001b[38;5;241m-\u001b[39m population_parameter_value_under_H0)\n\u001b[1;32m      3\u001b[0m SimStats_as_or_more_extreme_than_ObsStat \u001b[38;5;241m=\u001b[39m simulated_statistics \u001b[38;5;241m>\u001b[39m\u001b[38;5;241m=\u001b[39m observed_statistic\n\u001b[1;32m      4\u001b[0m SimStats_as_or_more_extreme_than_ObsStat \u001b[38;5;241m=\u001b[39m simulated_statistics \u001b[38;5;241m<\u001b[39m\u001b[38;5;241m=\u001b[39m observed_statistic\n",
      "\u001b[0;31mNameError\u001b[0m: name 'simulated_statistics' is not defined"
     ]
    }
   ],
   "source": [
    "# 7.\n",
    "SimStats_as_or_more_extreme_than_ObsStat = abs(simulated_statistics - population_parameter_value_under_H0) >= abs(observed_statistic - population_parameter_value_under_H0)\n",
    "SimStats_as_or_more_extreme_than_ObsStat = simulated_statistics >= observed_statistic\n",
    "SimStats_as_or_more_extreme_than_ObsStat = simulated_statistics <= observed_statistic\n",
    "p_value = SimStats_as_or_more_extreme_than_ObsStat.sum() / number_of_simulations\n",
    "\n",
    "# Two-tailed test: \n",
    "# This kind of test checks to see if the number being measured is different from 0.5 in any way, whether it's positive or negative. \n",
    "# The p-value is bigger, which makes it safer because it looks at differences on both sides.\n",
    "\n",
    "# One-tailed test: \n",
    "# This kind of test only looks for one kind of variation, like whether the number given is significantly greater than 0.5. \n",
    "# The difference is more likely to be significant if it fits with your theory if the p-value is small. \n",
    "# This is because it only looks in one direction.\n",
    "\n",
    "# The p-value for the one-tailed test should be less than that for the two-tailed test. \n",
    "# This is why the two-tailed test divides the amount of significance into two groups: \n",
    "# those with positive differences and those with negative differences. \n",
    "# It's harder to become important because of this. Also, the one-tailed test only looks in one way. \n",
    "# This makes it easier to find significance because it concentrates the amount of significance in that direction.\n",
    "\n",
    "# https://chatgpt.com/share/670ee82a-07e0-8006-9503-04f4de88b61d"
   ]
  },
  {
   "cell_type": "code",
   "execution_count": 2,
   "id": "7c1dd0a8",
   "metadata": {},
   "outputs": [
    {
     "name": "stdout",
     "output_type": "stream",
     "text": [
      "P-value: 0.0292\n"
     ]
    }
   ],
   "source": [
    "# 8.\n",
    "import numpy as np\n",
    "\n",
    "np.random.seed(33)\n",
    "\n",
    "observed_proportion = 49 / 80\n",
    "n_students = 80\n",
    "p_null = 0.5\n",
    "\n",
    "n_simulations = 10000\n",
    "\n",
    "simulations = np.random.binomial(n_students, p_null, n_simulations) / n_students\n",
    "\n",
    "p_value = np.mean(simulations >= observed_proportion)\n",
    "\n",
    "print(f\"P-value: {p_value}\")\n"
   ]
  },
  {
   "cell_type": "code",
   "execution_count": null,
   "id": "bcea58b2",
   "metadata": {},
   "outputs": [],
   "source": [
    "# 9. Yes"
   ]
  }
 ],
 "metadata": {
  "kernelspec": {
   "display_name": "Python 3 (ipykernel)",
   "language": "python",
   "name": "python3"
  },
  "language_info": {
   "codemirror_mode": {
    "name": "ipython",
    "version": 3
   },
   "file_extension": ".py",
   "mimetype": "text/x-python",
   "name": "python",
   "nbconvert_exporter": "python",
   "pygments_lexer": "ipython3",
   "version": "3.11.6"
  }
 },
 "nbformat": 4,
 "nbformat_minor": 5
}
